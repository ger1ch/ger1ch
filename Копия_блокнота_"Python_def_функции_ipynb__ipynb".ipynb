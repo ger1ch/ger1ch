{
  "cells": [
    {
      "cell_type": "markdown",
      "metadata": {
        "id": "view-in-github",
        "colab_type": "text"
      },
      "source": [
        "<a href=\"https://colab.research.google.com/github/ger1ch/ger1ch/blob/main/%D0%9A%D0%BE%D0%BF%D0%B8%D1%8F_%D0%B1%D0%BB%D0%BE%D0%BA%D0%BD%D0%BE%D1%82%D0%B0_%22Python_def_%D1%84%D1%83%D0%BD%D0%BA%D1%86%D0%B8%D0%B8_ipynb__ipynb%22.ipynb\" target=\"_parent\"><img src=\"https://colab.research.google.com/assets/colab-badge.svg\" alt=\"Open In Colab\"/></a>"
      ]
    },
    {
      "cell_type": "markdown",
      "metadata": {
        "id": "3ORcCe1jIhjZ"
      },
      "source": [
        "# **<span style=\"color:blue\">Функции</span>**\n",
        "\n",
        "**Функция** в Python представляет собой блок кода, который выполняет определенную задачу. Она позволяет упростить программу, разбивая ее на более мелкие и понятные части."
      ]
    },
    {
      "cell_type": "markdown",
      "metadata": {
        "id": "JLKVdNNPNNnd"
      },
      "source": [
        "Запустите представленный ниже код и посмотрите, что будет:"
      ]
    },
    {
      "cell_type": "code",
      "execution_count": null,
      "metadata": {
        "colab": {
          "base_uri": "https://localhost:8080/"
        },
        "id": "yDqXlHv3IgVE",
        "outputId": "0de90c54-b251-410e-a4b2-dc322dcfb7cf"
      },
      "outputs": [
        {
          "output_type": "stream",
          "name": "stdout",
          "text": [
            "Hello, word!\n",
            "Hello, word!\n"
          ]
        }
      ],
      "source": [
        "def first_works():\n",
        "  print(\"Hello, word!\")\n",
        "\n",
        "first_works()\n",
        "first_works()"
      ]
    },
    {
      "cell_type": "markdown",
      "metadata": {
        "id": "05TeNahCNqzT"
      },
      "source": [
        "## **Структура функции выглядит следующим образом:**\n",
        "\n",
        "1. Слово **def**, которое является общим для всех функций. Оно дает понять интерпретатору, что далее идет описание функции.\n",
        "   \n",
        "2. Сразу после слова def и пробела следует **название функции**. Требование к названию функции практически идентичны требованиям к названию переменных. Не следует использовать в качестве названия функций print, list, sum и т.д. В противном случае они перезапишутся.\n",
        "   \n",
        "4. Сразу после названия функции, без пробела, следуют **круглые скобки**. В них указывается названия аргументов (требования к названию агрументов идентичны требованиям к названию переменных).\n",
        "   \n",
        "5. Сразу после скобок стоится **двоеточие**, которое позволяет понять интерпретатору, что далее следует исходный код функции.\n",
        "   \n",
        "6. Функция должна быть прописана до начала ее вызова.\n",
        "\n",
        " ![изображение.png](data:image/png;base64,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)\n",
        "    \n",
        "---\n",
        "### **<span style =\"color:red\">Важно!!!</span>**\n",
        "Отступ в **4 пробела** должен сохраняться до конца написания функции.\n",
        "\n",
        "Как только отступ вернется на уровень def, компьютер поймет, что исходный код функции закончился.\n",
        "\n",
        "### **Требования к названию функций аналогичны требованиям к названию переменных:**\n",
        "\n",
        "1. В имени функции используются только латинские буквы a-z, A-Z, цифры и символ нижнего подчеркивания (_);\n",
        "\n",
        "2. Имя функции не может начинаться с цифры;\n",
        "\n",
        "3. Имя функции по возможности должно отражать ее назначение;\n",
        "\n",
        "4. Символы верхнего и нижнего регистра различаются.\n",
        "\n",
        "**Для именования переменных и функций принято использовать стиль lower_case_with_underscores (слова из маленьких букв с подчеркиваниями).**\n"
      ]
    },
    {
      "cell_type": "markdown",
      "metadata": {
        "id": "kin73HrcC9by"
      },
      "source": [
        "### **Обратите внимание на:**\n",
        "1. Объявление функции должно предшествовать ее вызову.\n",
        "2. Каждая строка тела функции начинается с одинакового количества пробелов, иначе произойдет ошибка."
      ]
    },
    {
      "cell_type": "markdown",
      "metadata": {
        "id": "kwd_6_OPC9bz"
      },
      "source": [
        "### **Параметры и аргументы функции**\n",
        "\n",
        "**Аргумент** – это любая порция данных, которая передается в функцию, когда функция вызывается.\n",
        "\n",
        "**Параметр** – это переменная, которая получает аргумент, переданный в функцию."
      ]
    },
    {
      "cell_type": "markdown",
      "metadata": {
        "id": "5M-p33yecTtz"
      },
      "source": [
        "### **Пример**\n",
        "\n",
        "Создадим функцию print_hours, которая принимает на вход минуты (minutes) и печатает на соотвествующему этому числу минут целое число часов и остаток минут."
      ]
    },
    {
      "cell_type": "code",
      "execution_count": null,
      "metadata": {
        "id": "Opo0-OmgcTb7"
      },
      "outputs": [],
      "source": [
        "def print_hours(minutes): #minutes - аргумент\n",
        "  hours=minutes//60 #деление без остатка, hours -переменная\n",
        "  left_minutes=minutes%60 #остаток от деления\n",
        "  print(\"Часов:\", hours)\n",
        "  print(\"Минут:\", left_minutes )"
      ]
    },
    {
      "cell_type": "markdown",
      "metadata": {
        "id": "DyOf4f07dirP"
      },
      "source": [
        "Проверим полученную функцию на работоспособность:"
      ]
    },
    {
      "cell_type": "code",
      "execution_count": null,
      "metadata": {
        "colab": {
          "base_uri": "https://localhost:8080/"
        },
        "id": "DRHg-kAgdhr9",
        "outputId": "656cf406-ce35-40d4-8f21-b7070f2f7eab"
      },
      "outputs": [
        {
          "output_type": "stream",
          "name": "stdout",
          "text": [
            "Часов: 1\n",
            "Минут: 30\n",
            "None\n"
          ]
        }
      ],
      "source": [
        "print(print_hours(90))"
      ]
    },
    {
      "cell_type": "markdown",
      "metadata": {
        "id": "5NAv63VqmVhR"
      },
      "source": [
        "Обратите внимание, что кроме запрашиваемой информации, было введено слово None - это не ошибка, но об этом поговорим позже."
      ]
    },
    {
      "cell_type": "markdown",
      "metadata": {
        "id": "7C4V1h1oC9b4"
      },
      "source": [
        "_________\n",
        "### **ЗАДАНИЕ**\n",
        "Напишем функцию print_hello(n), которая принимает одно натуральное число n и печатает слово Hello ровно n раз."
      ]
    },
    {
      "cell_type": "code",
      "execution_count": null,
      "metadata": {
        "id": "uzzL1zDuC9b4",
        "colab": {
          "base_uri": "https://localhost:8080/"
        },
        "outputId": "e75009e5-e3b9-424f-8023-59f01f1183a0"
      },
      "outputs": [
        {
          "output_type": "stream",
          "name": "stdout",
          "text": [
            "Введите натуральное число n: 3\n",
            "Hello\n",
            "Hello\n",
            "Hello\n"
          ]
        }
      ],
      "source": [
        "#ваш код ниже\n",
        "def print_hello(n):\n",
        "    if n <= 0:\n",
        "        print(\"Ошибка: n должно быть натуральным числом (больше 0).\")\n",
        "        return\n",
        "\n",
        "    for _ in range(n):\n",
        "        print(\"Hello\")\n",
        "\n",
        "n = int(input(\"Введите натуральное число n: \"))\n",
        "print_hello(n)\n"
      ]
    },
    {
      "cell_type": "markdown",
      "metadata": {
        "id": "CtH7-oWbfAeg"
      },
      "source": [
        "______\n",
        "______\n",
        "## **Оператор return**"
      ]
    },
    {
      "cell_type": "markdown",
      "metadata": {
        "id": "lWOH3y93hA2b"
      },
      "source": [
        "Оператор return возвращает значение функции, если это предусмотрено"
      ]
    },
    {
      "cell_type": "markdown",
      "metadata": {
        "id": "Owbe_psZhI82"
      },
      "source": [
        "Ниже представлена функция timer_speed(),которая на основании данных о длине пути (distance) и времени его прохождения (time)  рассчитывает скорость движения"
      ]
    },
    {
      "cell_type": "markdown",
      "metadata": {
        "id": "YfOkH35HiXSp"
      },
      "source": [
        "**!!!! Обратите внимание**, что передавать данные следует в том же порядке, что и прописано в аргументах функции в круглых скобках."
      ]
    },
    {
      "cell_type": "markdown",
      "metadata": {
        "id": "yzcucJQzC9b6"
      },
      "source": [
        "**Пример**\n",
        "\n",
        "Возвращение функцией одного параметра"
      ]
    },
    {
      "cell_type": "code",
      "execution_count": null,
      "metadata": {
        "colab": {
          "base_uri": "https://localhost:8080/"
        },
        "id": "LRXRRufUhILy",
        "outputId": "48ec3f51-d955-4eba-91d4-4f6caca0a68d"
      },
      "outputs": [
        {
          "output_type": "stream",
          "name": "stdout",
          "text": [
            "Скорость движения составила: 20.0 км\\ч.\n"
          ]
        }
      ],
      "source": [
        "def timer_speed(distance, time): #объявление функции\n",
        "  result=distance/time #определение скорости движения\n",
        "  return result #возращение результата\n",
        "\n",
        "print(\"Скорость движения составила:\", timer_speed(200,10),\"км\\ч.\")"
      ]
    },
    {
      "cell_type": "markdown",
      "metadata": {
        "id": "RHVd36kPlQy5"
      },
      "source": [
        "**Пример**\n",
        "\n",
        "Возможно возвращение не одного, а нескольких значений."
      ]
    },
    {
      "cell_type": "markdown",
      "metadata": {
        "id": "3RUT2QRRlcrN"
      },
      "source": [
        "Ниже представлена функция timer_speed2(),которая на основании данных о длине пути (distance) и времени его прохождения (time) рассчитывает скорость движения"
      ]
    },
    {
      "cell_type": "code",
      "execution_count": null,
      "metadata": {
        "colab": {
          "base_uri": "https://localhost:8080/"
        },
        "id": "EYi6rlWl7u1Y",
        "outputId": "10244697-9b35-401b-db7e-2de54793a6fb"
      },
      "outputs": [
        {
          "output_type": "stream",
          "name": "stdout",
          "text": [
            "Чтобы пройти дистанцию за 10 минут, нужно двигаться со скоростью 20.0\n"
          ]
        }
      ],
      "source": [
        "def timer_speed2(distance, time):\n",
        "    result2=distance/time #определение средней скорости движения, с которой нужно двигаться, чтобы уложиться во время\n",
        "    return time, result2\n",
        "\n",
        "result3=timer_speed2(200,10)\n",
        "print(\"Чтобы пройти дистанцию за\", result3[0],\"минут, нужно двигаться со скоростью\", result3[1])"
      ]
    },
    {
      "cell_type": "markdown",
      "metadata": {
        "id": "kzE7CZCd-pHn"
      },
      "source": [
        "_________________________________\n",
        "\n",
        "### **ЗАДАНИЕ**\n",
        "Напишите функцию get_total, которая на входе принимает число единиц товара и стоимость каждой единицы, а возвращает одно число - общую стоимость данного числа товара."
      ]
    },
    {
      "cell_type": "code",
      "execution_count": null,
      "metadata": {
        "id": "uPPQoXiu_AWf",
        "colab": {
          "base_uri": "https://localhost:8080/"
        },
        "outputId": "5269895f-efd3-4e8d-a786-b330cda58a9f"
      },
      "outputs": [
        {
          "output_type": "stream",
          "name": "stdout",
          "text": [
            "Введите количество единиц товара: 5\n",
            "Введите стоимость одной единицы товара: 3\n",
            "Общая стоимость: 15.0\n"
          ]
        }
      ],
      "source": [
        "#ваш код ниже\n",
        "def get_total(quantity, price_per_unit):\n",
        "    if quantity < 0 or price_per_unit < 0:\n",
        "        return \"Ошибка: количество и стоимость должны быть неотрицательными.\"\n",
        "\n",
        "    total = quantity * price_per_unit\n",
        "    return total\n",
        "\n",
        "quantity = int(input(\"Введите количество единиц товара: \"))\n",
        "price_per_unit = float(input(\"Введите стоимость одной единицы товара: \"))\n",
        "print(\"Общая стоимость:\", get_total(quantity, price_per_unit))\n"
      ]
    },
    {
      "cell_type": "markdown",
      "metadata": {
        "id": "hTguJnwrEctG"
      },
      "source": [
        "________\n",
        "### **ЗАДАНИЕ**\n",
        "Напишите функцию root, которая будет извлекать из числа value корень степени n."
      ]
    },
    {
      "cell_type": "code",
      "execution_count": null,
      "metadata": {
        "id": "VIYnxL-GEwF5",
        "colab": {
          "base_uri": "https://localhost:8080/"
        },
        "outputId": "e115c943-8fd1-4126-fb0b-6e469ff53bdb"
      },
      "outputs": [
        {
          "output_type": "stream",
          "name": "stdout",
          "text": [
            "Введите число: 4\n",
            "Введите степень корня: 7\n",
            "Результат: 1.2190136542044754\n"
          ]
        }
      ],
      "source": [
        "#Напиши код ниже и проверь его работоспопосбность\n",
        "def root(value, n):\n",
        "    if value < 0 and n % 2 == 0:\n",
        "        return \"Ошибка: невозможно извлечь четный корень из отрицательного числа.\"\n",
        "\n",
        "    if n == 0:\n",
        "        return \"Ошибка: степень корня не может быть равна нулю.\"\n",
        "\n",
        "    result = value ** (1 / n)\n",
        "    return result\n",
        "\n",
        "value = float(input(\"Введите число: \"))\n",
        "n = int(input(\"Введите степень корня: \"))\n",
        "print(\"Результат:\", root(value, n))\n"
      ]
    },
    {
      "cell_type": "markdown",
      "metadata": {
        "id": "0yxj6OhJC9b8"
      },
      "source": [
        "### **ЗАДАНИЕ**\n",
        "\n",
        "На вход программы переданы две целочисленные переменные x и y. Напишите функцию multy(), которая принимает x и y в качестве аргументов и возвращает их произведение. Вызовите вашу функцию и выведите на экран результат ее работы."
      ]
    },
    {
      "cell_type": "code",
      "execution_count": null,
      "metadata": {
        "id": "9biTMU-YC9b8",
        "colab": {
          "base_uri": "https://localhost:8080/"
        },
        "outputId": "e2ff1814-10b9-4fac-e696-b9df73b67762"
      },
      "outputs": [
        {
          "output_type": "stream",
          "name": "stdout",
          "text": [
            "x = 3\n",
            "y = 2\n",
            "x * y = 6\n"
          ]
        }
      ],
      "source": [
        "def multy(x, y):\n",
        "  return x*y\n",
        "\n",
        "x = int(input(\"x = \"))\n",
        "y = int(input(\"y = \"))\n",
        "print(\"x * y =\", multy(x, y))"
      ]
    },
    {
      "cell_type": "markdown",
      "metadata": {
        "id": "Zmy2AGBxF4oi"
      },
      "source": [
        "__________\n",
        "## **Аргументы по умолчанию**\n",
        "\n",
        "Иногда необязательно передавать функции все аргументы, а сделать часть по умолчанию.\n",
        "\n",
        "**Пример**"
      ]
    },
    {
      "cell_type": "code",
      "execution_count": null,
      "metadata": {
        "colab": {
          "base_uri": "https://localhost:8080/"
        },
        "id": "OWq4pO3FGFx_",
        "outputId": "4f6d78dd-8fa2-4e8d-bcbf-0f79ead47924"
      },
      "outputs": [
        {
          "output_type": "stream",
          "name": "stdout",
          "text": [
            "Кола будет со льдом!\n",
            "\n",
            "\n",
            "Кола будет без льда!\n"
          ]
        }
      ],
      "source": [
        "def cola(ice=True):\n",
        "  if ice==True:\n",
        "    print(\"Кола будет со льдом!\")\n",
        "  else:\n",
        "    print(\"Кола будет без льда!\")\n",
        "\n",
        "\n",
        "cola()\n",
        "print('\\n')\n",
        "cola(ice=False)"
      ]
    },
    {
      "cell_type": "markdown",
      "metadata": {
        "id": "tywKGJ_LG7b3"
      },
      "source": [
        "__________\n",
        "__________\n",
        "### **ЗАДАНИЕ**\n",
        "\n",
        "Попробуйте написать функцию root2, которая будет, которая будет извлекать из числа value корень степени n. Если значение корня будет не указано, то по умолчанию - это квадратный корень.\n",
        "\n",
        "***Примечание:*** *аргумент по умолчанию должен быть после обязательного аргумента.*"
      ]
    },
    {
      "cell_type": "code",
      "execution_count": null,
      "metadata": {
        "id": "lfIa0jO9HTxe",
        "colab": {
          "base_uri": "https://localhost:8080/"
        },
        "outputId": "a7b860b3-38fe-4b50-8a88-d0a3e237f4f5"
      },
      "outputs": [
        {
          "output_type": "stream",
          "name": "stdout",
          "text": [
            "Введите число, из которого нужно извлечь корень: 3\n",
            "Введите степень корня (по умолчанию 2): 6\n",
            "Результат: 1.2009369551760027\n"
          ]
        }
      ],
      "source": [
        "def root2(value, n=2):\n",
        "    if value < 0 and n % 2 == 0:\n",
        "        return \"Ошибка: невозможно извлечь четный корень из отрицательного числа.\"\n",
        "\n",
        "    if n == 0:\n",
        "        return \"Ошибка: степень корня не может быть равна нулю.\"\n",
        "\n",
        "    result = value ** (1 / n)\n",
        "    return result\n",
        "\n",
        "try:\n",
        "    value = float(input(\"Введите число, из которого нужно извлечь корень: \"))\n",
        "    n = int(input(\"Введите степень корня (по умолчанию 2): \"))\n",
        "\n",
        "    if n == 0:\n",
        "        print(\"Ошибка: степень корня не может быть равна нулю.\")\n",
        "    else:\n",
        "        result = root2(value, n)\n",
        "        print(f\"Результат: {result}\")\n",
        "except ValueError:\n",
        "    print(\"Ошибка: введены некорректные данные.\")\n",
        "\n",
        "\n"
      ]
    },
    {
      "cell_type": "markdown",
      "metadata": {
        "id": "IBaUMqLCPzfp"
      },
      "source": [
        "_______\n",
        "### **Обработка заранее не неизвестного числа аргументов**"
      ]
    },
    {
      "cell_type": "markdown",
      "metadata": {
        "id": "DggOjwlbQB6b"
      },
      "source": [
        "Представим себе ситуацию, что вы хотите найти среднее значение чисел. Но вы не знаете сколько чисел пользователь хочет ввести. Как быть в такой ситуации?\n",
        "\n",
        "Решение представлено ниже:"
      ]
    },
    {
      "cell_type": "code",
      "execution_count": null,
      "metadata": {
        "colab": {
          "base_uri": "https://localhost:8080/"
        },
        "id": "Q27yaF92QUAc",
        "outputId": "02da5b49-d004-45ce-ea2e-8f91648fdd3c"
      },
      "outputs": [
        {
          "output_type": "stream",
          "name": "stdout",
          "text": [
            "5.333333333333333\n"
          ]
        }
      ],
      "source": [
        "def sr_sum(*num):\n",
        "  result_sum=sum(num)/len(num)\n",
        "  return result_sum\n",
        "\n",
        "print(sr_sum(5,5,5,5,6,6))"
      ]
    },
    {
      "cell_type": "markdown",
      "metadata": {
        "id": "bhP_5HQjQ-AH"
      },
      "source": [
        "Как видно из кода выше, принимаемое значение представляет собой кортеж. Функцию об этом предупреждает знак \"*\", который в данном случае не является знаком умножения, а является оператором распоковки."
      ]
    },
    {
      "cell_type": "markdown",
      "metadata": {
        "id": "A_m3YOpeRVCb"
      },
      "source": [
        "_____\n",
        "_____\n",
        "\n",
        "### **ЗАДАНИЕ**\n",
        "Напишите функцию mult, которая будет возвращать значение произведения введенных в нее через запятую чисел.\n",
        "Примечание: при написании данной функции используйте цикл."
      ]
    },
    {
      "cell_type": "code",
      "execution_count": null,
      "metadata": {
        "id": "Yv2lLZ5-Ryqy",
        "colab": {
          "base_uri": "https://localhost:8080/"
        },
        "outputId": "213cd35e-6853-47ed-dff7-8782ee0ab7ed"
      },
      "outputs": [
        {
          "output_type": "stream",
          "name": "stdout",
          "text": [
            "Введите числа через запятую: 3,3,2\n",
            "18.0\n"
          ]
        }
      ],
      "source": [
        "def mult():\n",
        "    user_input = input(\"Введите числа через запятую: \")\n",
        "    try:\n",
        "        numbers = [float(num) for num in user_input.split(\",\")]\n",
        "\n",
        "        if not numbers:\n",
        "            return \"Вы не ввели числа.\"\n",
        "\n",
        "        result = 1\n",
        "        for num in numbers:\n",
        "            result *= num\n",
        "\n",
        "        return result\n",
        "    except ValueError:\n",
        "        return \"Ошибка: ввод должен содержать только числа, разделенные запятой.\"\n",
        "\n",
        "print(mult())\n"
      ]
    },
    {
      "cell_type": "markdown",
      "metadata": {
        "id": "Z7JBh6veEQTX"
      },
      "source": [
        "________\n",
        "__________\n",
        "### **ЗАДАНИЕ**\n",
        "\n",
        "Напишите функцию split_data(data), которая принимает на вход строку, задающую дату, в формате ддммггггг без раздителей. Функция должна вернуть кортеж из чисел (int): день, месяц, год.\n",
        "\n",
        "Пример: split_data('31012022')\n",
        "\n",
        "Вывод: (31, 01, 2022)\n",
        "\n",
        "Подсказка: необходимо вспомнить о срезах и функции append()"
      ]
    },
    {
      "cell_type": "code",
      "execution_count": null,
      "metadata": {
        "id": "cyi0Ms3YFI0Z",
        "colab": {
          "base_uri": "https://localhost:8080/"
        },
        "outputId": "368c8a23-b029-4306-a7e2-875eb8172830"
      },
      "outputs": [
        {
          "output_type": "stream",
          "name": "stdout",
          "text": [
            "Введите дату в формате ддммггггг: 19032004\n",
            "(19, 3, 2004)\n"
          ]
        }
      ],
      "source": [
        "#Напишите код ниже и проверьте его работоспособность\n",
        "def split_data():\n",
        "    data = input(\"Введите дату в формате ддммггггг: \")\n",
        "\n",
        "    if len(data) != 8 or not data.isdigit():\n",
        "        return \"Ошибка: введите дату в формате ддммггггг (8 цифр).\"\n",
        "\n",
        "    day = int(data[:2])\n",
        "    month = int(data[2:4])\n",
        "    year = int(data[4:])\n",
        "\n",
        "    if not (1 <= day <= 31) or not (1 <= month <= 12):\n",
        "        return \"Ошибка: некорректная дата.\"\n",
        "\n",
        "    return (day, month, year)\n",
        "\n",
        "result = split_data()\n",
        "print(result)"
      ]
    }
  ],
  "metadata": {
    "colab": {
      "provenance": [],
      "include_colab_link": true
    },
    "kernelspec": {
      "display_name": "Python 3 (ipykernel)",
      "language": "python",
      "name": "python3"
    },
    "language_info": {
      "codemirror_mode": {
        "name": "ipython",
        "version": 3
      },
      "file_extension": ".py",
      "mimetype": "text/x-python",
      "name": "python",
      "nbconvert_exporter": "python",
      "pygments_lexer": "ipython3",
      "version": "3.11.7"
    }
  },
  "nbformat": 4,
  "nbformat_minor": 0
}